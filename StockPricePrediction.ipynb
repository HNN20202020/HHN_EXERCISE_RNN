{
  "nbformat": 4,
  "nbformat_minor": 0,
  "metadata": {
    "colab": {
      "name": "StockPricePrediction.ipynb",
      "provenance": [],
      "authorship_tag": "ABX9TyObebvTE1QAEcMajmFNxtif",
      "include_colab_link": true
    },
    "kernelspec": {
      "name": "python3",
      "display_name": "Python 3"
    },
    "language_info": {
      "name": "python"
    }
  },
  "cells": [
    {
      "cell_type": "markdown",
      "metadata": {
        "id": "view-in-github",
        "colab_type": "text"
      },
      "source": [
        "<a href=\"https://colab.research.google.com/github/ProfessorDong/Deep-Learning-Course-Examples/blob/master/RNN_Examples/StockPricePrediction.ipynb\" target=\"_parent\"><img src=\"https://colab.research.google.com/assets/colab-badge.svg\" alt=\"Open In Colab\"/></a>"
      ]
    },
    {
      "cell_type": "markdown",
      "metadata": {
        "id": "WCKsoaRCliOU"
      },
      "source": [
        "# Futile Stock Price Prediction with LSTM and GRU\n",
        "\n",
        "This project predicts stock prices based on historical financial data using RNN LSTM.  It is a good practice of LSTM but does absolutely nothing for financial speculation as I believe stock prices follow a random walk process.\n"
      ]
    },
    {
      "cell_type": "code",
      "metadata": {
        "colab": {
          "base_uri": "https://localhost:8080/"
        },
        "id": "3456TV35BmY4",
        "outputId": "7179ee1f-4a4e-4054-9e39-5a6bd88d3737"
      },
      "source": [
        "!pip install --upgrade pandas\n",
        "!pip install --upgrade pandas-datareader"
      ],
      "execution_count": 10,
      "outputs": [
        {
          "output_type": "stream",
          "name": "stdout",
          "text": [
            "Looking in indexes: https://pypi.org/simple, https://us-python.pkg.dev/colab-wheels/public/simple/\n",
            "Requirement already satisfied: pandas in /usr/local/lib/python3.9/dist-packages (1.5.3)\n",
            "Requirement already satisfied: python-dateutil>=2.8.1 in /usr/local/lib/python3.9/dist-packages (from pandas) (2.8.2)\n",
            "Requirement already satisfied: numpy>=1.20.3 in /usr/local/lib/python3.9/dist-packages (from pandas) (1.22.4)\n",
            "Requirement already satisfied: pytz>=2020.1 in /usr/local/lib/python3.9/dist-packages (from pandas) (2022.7.1)\n",
            "Requirement already satisfied: six>=1.5 in /usr/local/lib/python3.9/dist-packages (from python-dateutil>=2.8.1->pandas) (1.16.0)\n",
            "Looking in indexes: https://pypi.org/simple, https://us-python.pkg.dev/colab-wheels/public/simple/\n",
            "Requirement already satisfied: pandas-datareader in /usr/local/lib/python3.9/dist-packages (0.10.0)\n",
            "Requirement already satisfied: pandas>=0.23 in /usr/local/lib/python3.9/dist-packages (from pandas-datareader) (1.5.3)\n",
            "Requirement already satisfied: lxml in /usr/local/lib/python3.9/dist-packages (from pandas-datareader) (4.9.2)\n",
            "Requirement already satisfied: requests>=2.19.0 in /usr/local/lib/python3.9/dist-packages (from pandas-datareader) (2.27.1)\n",
            "Requirement already satisfied: pytz>=2020.1 in /usr/local/lib/python3.9/dist-packages (from pandas>=0.23->pandas-datareader) (2022.7.1)\n",
            "Requirement already satisfied: python-dateutil>=2.8.1 in /usr/local/lib/python3.9/dist-packages (from pandas>=0.23->pandas-datareader) (2.8.2)\n",
            "Requirement already satisfied: numpy>=1.20.3 in /usr/local/lib/python3.9/dist-packages (from pandas>=0.23->pandas-datareader) (1.22.4)\n",
            "Requirement already satisfied: certifi>=2017.4.17 in /usr/local/lib/python3.9/dist-packages (from requests>=2.19.0->pandas-datareader) (2022.12.7)\n",
            "Requirement already satisfied: idna<4,>=2.5 in /usr/local/lib/python3.9/dist-packages (from requests>=2.19.0->pandas-datareader) (3.4)\n",
            "Requirement already satisfied: urllib3<1.27,>=1.21.1 in /usr/local/lib/python3.9/dist-packages (from requests>=2.19.0->pandas-datareader) (1.26.15)\n",
            "Requirement already satisfied: charset-normalizer~=2.0.0 in /usr/local/lib/python3.9/dist-packages (from requests>=2.19.0->pandas-datareader) (2.0.12)\n",
            "Requirement already satisfied: six>=1.5 in /usr/local/lib/python3.9/dist-packages (from python-dateutil>=2.8.1->pandas>=0.23->pandas-datareader) (1.16.0)\n"
          ]
        }
      ]
    },
    {
      "cell_type": "markdown",
      "metadata": {
        "id": "xcl93XwDnqyE"
      },
      "source": [
        "After you upgraded pandas and pandas-datareader, restart runtime before excuting the following codes."
      ]
    },
    {
      "cell_type": "code",
      "metadata": {
        "id": "166VKz1T_jZj"
      },
      "source": [
        "import math\n",
        "import pandas_datareader as web\n",
        "import numpy as np\n",
        "import pandas as pd\n",
        "from sklearn.preprocessing import MinMaxScaler\n",
        "from keras.models import Sequential\n",
        "from keras.layers import Dense, LSTM, GRU\n",
        "import matplotlib.pyplot as plt\n",
        "plt.style.use('fivethirtyeight')"
      ],
      "execution_count": 11,
      "outputs": []
    },
    {
      "cell_type": "code",
      "metadata": {
        "colab": {
          "base_uri": "https://localhost:8080/",
          "height": 364
        },
        "id": "8QjIeHSYAUio",
        "outputId": "53adb151-592c-4607-8b78-dc70640d7622"
      },
      "source": [
        "# Get the stock quote\n",
        "df = web.DataReader('PFE', data_source='yahoo', start='2010-01-01', end='2021-10-20')\n",
        "print(df.head())\n",
        "# print(df)"
      ],
      "execution_count": 12,
      "outputs": [
        {
          "output_type": "error",
          "ename": "TypeError",
          "evalue": "ignored",
          "traceback": [
            "\u001b[0;31m---------------------------------------------------------------------------\u001b[0m",
            "\u001b[0;31mTypeError\u001b[0m                                 Traceback (most recent call last)",
            "\u001b[0;32m<ipython-input-12-07c5c736f2f5>\u001b[0m in \u001b[0;36m<module>\u001b[0;34m\u001b[0m\n\u001b[1;32m      1\u001b[0m \u001b[0;31m# Get the stock quote\u001b[0m\u001b[0;34m\u001b[0m\u001b[0;34m\u001b[0m\u001b[0m\n\u001b[0;32m----> 2\u001b[0;31m \u001b[0mdf\u001b[0m \u001b[0;34m=\u001b[0m \u001b[0mweb\u001b[0m\u001b[0;34m.\u001b[0m\u001b[0mDataReader\u001b[0m\u001b[0;34m(\u001b[0m\u001b[0;34m'PFE'\u001b[0m\u001b[0;34m,\u001b[0m \u001b[0mdata_source\u001b[0m\u001b[0;34m=\u001b[0m\u001b[0;34m'yahoo'\u001b[0m\u001b[0;34m,\u001b[0m \u001b[0mstart\u001b[0m\u001b[0;34m=\u001b[0m\u001b[0;34m'2010-01-01'\u001b[0m\u001b[0;34m,\u001b[0m \u001b[0mend\u001b[0m\u001b[0;34m=\u001b[0m\u001b[0;34m'2021-10-20'\u001b[0m\u001b[0;34m)\u001b[0m\u001b[0;34m\u001b[0m\u001b[0;34m\u001b[0m\u001b[0m\n\u001b[0m\u001b[1;32m      3\u001b[0m \u001b[0mprint\u001b[0m\u001b[0;34m(\u001b[0m\u001b[0mdf\u001b[0m\u001b[0;34m.\u001b[0m\u001b[0mhead\u001b[0m\u001b[0;34m(\u001b[0m\u001b[0;34m)\u001b[0m\u001b[0;34m)\u001b[0m\u001b[0;34m\u001b[0m\u001b[0;34m\u001b[0m\u001b[0m\n\u001b[1;32m      4\u001b[0m \u001b[0;31m# print(df)\u001b[0m\u001b[0;34m\u001b[0m\u001b[0;34m\u001b[0m\u001b[0m\n",
            "\u001b[0;32m/usr/local/lib/python3.9/dist-packages/pandas/util/_decorators.py\u001b[0m in \u001b[0;36mwrapper\u001b[0;34m(*args, **kwargs)\u001b[0m\n\u001b[1;32m    209\u001b[0m                 \u001b[0;32melse\u001b[0m\u001b[0;34m:\u001b[0m\u001b[0;34m\u001b[0m\u001b[0;34m\u001b[0m\u001b[0m\n\u001b[1;32m    210\u001b[0m                     \u001b[0mkwargs\u001b[0m\u001b[0;34m[\u001b[0m\u001b[0mnew_arg_name\u001b[0m\u001b[0;34m]\u001b[0m \u001b[0;34m=\u001b[0m \u001b[0mnew_arg_value\u001b[0m\u001b[0;34m\u001b[0m\u001b[0;34m\u001b[0m\u001b[0m\n\u001b[0;32m--> 211\u001b[0;31m             \u001b[0;32mreturn\u001b[0m \u001b[0mfunc\u001b[0m\u001b[0;34m(\u001b[0m\u001b[0;34m*\u001b[0m\u001b[0margs\u001b[0m\u001b[0;34m,\u001b[0m \u001b[0;34m**\u001b[0m\u001b[0mkwargs\u001b[0m\u001b[0;34m)\u001b[0m\u001b[0;34m\u001b[0m\u001b[0;34m\u001b[0m\u001b[0m\n\u001b[0m\u001b[1;32m    212\u001b[0m \u001b[0;34m\u001b[0m\u001b[0m\n\u001b[1;32m    213\u001b[0m         \u001b[0;32mreturn\u001b[0m \u001b[0mcast\u001b[0m\u001b[0;34m(\u001b[0m\u001b[0mF\u001b[0m\u001b[0;34m,\u001b[0m \u001b[0mwrapper\u001b[0m\u001b[0;34m)\u001b[0m\u001b[0;34m\u001b[0m\u001b[0;34m\u001b[0m\u001b[0m\n",
            "\u001b[0;32m/usr/local/lib/python3.9/dist-packages/pandas_datareader/data.py\u001b[0m in \u001b[0;36mDataReader\u001b[0;34m(name, data_source, start, end, retry_count, pause, session, api_key)\u001b[0m\n\u001b[1;32m    368\u001b[0m \u001b[0;34m\u001b[0m\u001b[0m\n\u001b[1;32m    369\u001b[0m     \u001b[0;32mif\u001b[0m \u001b[0mdata_source\u001b[0m \u001b[0;34m==\u001b[0m \u001b[0;34m\"yahoo\"\u001b[0m\u001b[0;34m:\u001b[0m\u001b[0;34m\u001b[0m\u001b[0;34m\u001b[0m\u001b[0m\n\u001b[0;32m--> 370\u001b[0;31m         return YahooDailyReader(\n\u001b[0m\u001b[1;32m    371\u001b[0m             \u001b[0msymbols\u001b[0m\u001b[0;34m=\u001b[0m\u001b[0mname\u001b[0m\u001b[0;34m,\u001b[0m\u001b[0;34m\u001b[0m\u001b[0;34m\u001b[0m\u001b[0m\n\u001b[1;32m    372\u001b[0m             \u001b[0mstart\u001b[0m\u001b[0;34m=\u001b[0m\u001b[0mstart\u001b[0m\u001b[0;34m,\u001b[0m\u001b[0;34m\u001b[0m\u001b[0;34m\u001b[0m\u001b[0m\n",
            "\u001b[0;32m/usr/local/lib/python3.9/dist-packages/pandas_datareader/base.py\u001b[0m in \u001b[0;36mread\u001b[0;34m(self)\u001b[0m\n\u001b[1;32m    251\u001b[0m         \u001b[0;31m# If a single symbol, (e.g., 'GOOG')\u001b[0m\u001b[0;34m\u001b[0m\u001b[0;34m\u001b[0m\u001b[0m\n\u001b[1;32m    252\u001b[0m         \u001b[0;32mif\u001b[0m \u001b[0misinstance\u001b[0m\u001b[0;34m(\u001b[0m\u001b[0mself\u001b[0m\u001b[0;34m.\u001b[0m\u001b[0msymbols\u001b[0m\u001b[0;34m,\u001b[0m \u001b[0;34m(\u001b[0m\u001b[0mstring_types\u001b[0m\u001b[0;34m,\u001b[0m \u001b[0mint\u001b[0m\u001b[0;34m)\u001b[0m\u001b[0;34m)\u001b[0m\u001b[0;34m:\u001b[0m\u001b[0;34m\u001b[0m\u001b[0;34m\u001b[0m\u001b[0m\n\u001b[0;32m--> 253\u001b[0;31m             \u001b[0mdf\u001b[0m \u001b[0;34m=\u001b[0m \u001b[0mself\u001b[0m\u001b[0;34m.\u001b[0m\u001b[0m_read_one_data\u001b[0m\u001b[0;34m(\u001b[0m\u001b[0mself\u001b[0m\u001b[0;34m.\u001b[0m\u001b[0murl\u001b[0m\u001b[0;34m,\u001b[0m \u001b[0mparams\u001b[0m\u001b[0;34m=\u001b[0m\u001b[0mself\u001b[0m\u001b[0;34m.\u001b[0m\u001b[0m_get_params\u001b[0m\u001b[0;34m(\u001b[0m\u001b[0mself\u001b[0m\u001b[0;34m.\u001b[0m\u001b[0msymbols\u001b[0m\u001b[0;34m)\u001b[0m\u001b[0;34m)\u001b[0m\u001b[0;34m\u001b[0m\u001b[0;34m\u001b[0m\u001b[0m\n\u001b[0m\u001b[1;32m    254\u001b[0m         \u001b[0;31m# Or multiple symbols, (e.g., ['GOOG', 'AAPL', 'MSFT'])\u001b[0m\u001b[0;34m\u001b[0m\u001b[0;34m\u001b[0m\u001b[0m\n\u001b[1;32m    255\u001b[0m         \u001b[0;32melif\u001b[0m \u001b[0misinstance\u001b[0m\u001b[0;34m(\u001b[0m\u001b[0mself\u001b[0m\u001b[0;34m.\u001b[0m\u001b[0msymbols\u001b[0m\u001b[0;34m,\u001b[0m \u001b[0mDataFrame\u001b[0m\u001b[0;34m)\u001b[0m\u001b[0;34m:\u001b[0m\u001b[0;34m\u001b[0m\u001b[0;34m\u001b[0m\u001b[0m\n",
            "\u001b[0;32m/usr/local/lib/python3.9/dist-packages/pandas_datareader/yahoo/daily.py\u001b[0m in \u001b[0;36m_read_one_data\u001b[0;34m(self, url, params)\u001b[0m\n\u001b[1;32m    151\u001b[0m         \u001b[0;32mtry\u001b[0m\u001b[0;34m:\u001b[0m\u001b[0;34m\u001b[0m\u001b[0;34m\u001b[0m\u001b[0m\n\u001b[1;32m    152\u001b[0m             \u001b[0mj\u001b[0m \u001b[0;34m=\u001b[0m \u001b[0mjson\u001b[0m\u001b[0;34m.\u001b[0m\u001b[0mloads\u001b[0m\u001b[0;34m(\u001b[0m\u001b[0mre\u001b[0m\u001b[0;34m.\u001b[0m\u001b[0msearch\u001b[0m\u001b[0;34m(\u001b[0m\u001b[0mptrn\u001b[0m\u001b[0;34m,\u001b[0m \u001b[0mresp\u001b[0m\u001b[0;34m.\u001b[0m\u001b[0mtext\u001b[0m\u001b[0;34m,\u001b[0m \u001b[0mre\u001b[0m\u001b[0;34m.\u001b[0m\u001b[0mDOTALL\u001b[0m\u001b[0;34m)\u001b[0m\u001b[0;34m.\u001b[0m\u001b[0mgroup\u001b[0m\u001b[0;34m(\u001b[0m\u001b[0;36m1\u001b[0m\u001b[0;34m)\u001b[0m\u001b[0;34m)\u001b[0m\u001b[0;34m\u001b[0m\u001b[0;34m\u001b[0m\u001b[0m\n\u001b[0;32m--> 153\u001b[0;31m             \u001b[0mdata\u001b[0m \u001b[0;34m=\u001b[0m \u001b[0mj\u001b[0m\u001b[0;34m[\u001b[0m\u001b[0;34m\"context\"\u001b[0m\u001b[0;34m]\u001b[0m\u001b[0;34m[\u001b[0m\u001b[0;34m\"dispatcher\"\u001b[0m\u001b[0;34m]\u001b[0m\u001b[0;34m[\u001b[0m\u001b[0;34m\"stores\"\u001b[0m\u001b[0;34m]\u001b[0m\u001b[0;34m[\u001b[0m\u001b[0;34m\"HistoricalPriceStore\"\u001b[0m\u001b[0;34m]\u001b[0m\u001b[0;34m\u001b[0m\u001b[0;34m\u001b[0m\u001b[0m\n\u001b[0m\u001b[1;32m    154\u001b[0m         \u001b[0;32mexcept\u001b[0m \u001b[0mKeyError\u001b[0m\u001b[0;34m:\u001b[0m\u001b[0;34m\u001b[0m\u001b[0;34m\u001b[0m\u001b[0m\n\u001b[1;32m    155\u001b[0m             \u001b[0mmsg\u001b[0m \u001b[0;34m=\u001b[0m \u001b[0;34m\"No data fetched for symbol {} using {}\"\u001b[0m\u001b[0;34m\u001b[0m\u001b[0;34m\u001b[0m\u001b[0m\n",
            "\u001b[0;31mTypeError\u001b[0m: string indices must be integers"
          ]
        }
      ]
    },
    {
      "cell_type": "code",
      "source": [
        "!pip install yfinance"
      ],
      "metadata": {
        "id": "CM0t6bP2wEtK",
        "outputId": "9d53dd5d-83e8-4da9-c691-3e455641c350",
        "colab": {
          "base_uri": "https://localhost:8080/"
        }
      },
      "execution_count": 13,
      "outputs": [
        {
          "output_type": "stream",
          "name": "stdout",
          "text": [
            "Looking in indexes: https://pypi.org/simple, https://us-python.pkg.dev/colab-wheels/public/simple/\n",
            "Collecting yfinance\n",
            "  Downloading yfinance-0.2.13-py2.py3-none-any.whl (59 kB)\n",
            "\u001b[2K     \u001b[90m━━━━━━━━━━━━━━━━━━━━━━━━━━━━━━━━━━━━━━━━\u001b[0m \u001b[32m59.3/59.3 KB\u001b[0m \u001b[31m2.2 MB/s\u001b[0m eta \u001b[36m0:00:00\u001b[0m\n",
            "\u001b[?25hCollecting frozendict>=2.3.4\n",
            "  Downloading frozendict-2.3.6-cp39-cp39-manylinux_2_17_x86_64.manylinux2014_x86_64.whl (114 kB)\n",
            "\u001b[2K     \u001b[90m━━━━━━━━━━━━━━━━━━━━━━━━━━━━━━━━━━━━━━━\u001b[0m \u001b[32m114.3/114.3 KB\u001b[0m \u001b[31m6.0 MB/s\u001b[0m eta \u001b[36m0:00:00\u001b[0m\n",
            "\u001b[?25hRequirement already satisfied: pytz>=2022.5 in /usr/local/lib/python3.9/dist-packages (from yfinance) (2022.7.1)\n",
            "Requirement already satisfied: multitasking>=0.0.7 in /usr/local/lib/python3.9/dist-packages (from yfinance) (0.0.11)\n",
            "Requirement already satisfied: html5lib>=1.1 in /usr/local/lib/python3.9/dist-packages (from yfinance) (1.1)\n",
            "Requirement already satisfied: beautifulsoup4>=4.11.1 in /usr/local/lib/python3.9/dist-packages (from yfinance) (4.11.2)\n",
            "Requirement already satisfied: numpy>=1.16.5 in /usr/local/lib/python3.9/dist-packages (from yfinance) (1.22.4)\n",
            "Collecting appdirs>=1.4.4\n",
            "  Downloading appdirs-1.4.4-py2.py3-none-any.whl (9.6 kB)\n",
            "Collecting cryptography>=3.3.2\n",
            "  Downloading cryptography-39.0.2-cp36-abi3-manylinux_2_28_x86_64.whl (4.2 MB)\n",
            "\u001b[2K     \u001b[90m━━━━━━━━━━━━━━━━━━━━━━━━━━━━━━━━━━━━━━━━\u001b[0m \u001b[32m4.2/4.2 MB\u001b[0m \u001b[31m43.1 MB/s\u001b[0m eta \u001b[36m0:00:00\u001b[0m\n",
            "\u001b[?25hRequirement already satisfied: pandas>=1.3.0 in /usr/local/lib/python3.9/dist-packages (from yfinance) (1.5.3)\n",
            "Requirement already satisfied: lxml>=4.9.1 in /usr/local/lib/python3.9/dist-packages (from yfinance) (4.9.2)\n",
            "Requirement already satisfied: requests>=2.26 in /usr/local/lib/python3.9/dist-packages (from yfinance) (2.27.1)\n",
            "Requirement already satisfied: soupsieve>1.2 in /usr/local/lib/python3.9/dist-packages (from beautifulsoup4>=4.11.1->yfinance) (2.4)\n",
            "Requirement already satisfied: cffi>=1.12 in /usr/local/lib/python3.9/dist-packages (from cryptography>=3.3.2->yfinance) (1.15.1)\n",
            "Requirement already satisfied: webencodings in /usr/local/lib/python3.9/dist-packages (from html5lib>=1.1->yfinance) (0.5.1)\n",
            "Requirement already satisfied: six>=1.9 in /usr/local/lib/python3.9/dist-packages (from html5lib>=1.1->yfinance) (1.16.0)\n",
            "Requirement already satisfied: python-dateutil>=2.8.1 in /usr/local/lib/python3.9/dist-packages (from pandas>=1.3.0->yfinance) (2.8.2)\n",
            "Requirement already satisfied: urllib3<1.27,>=1.21.1 in /usr/local/lib/python3.9/dist-packages (from requests>=2.26->yfinance) (1.26.15)\n",
            "Requirement already satisfied: idna<4,>=2.5 in /usr/local/lib/python3.9/dist-packages (from requests>=2.26->yfinance) (3.4)\n",
            "Requirement already satisfied: certifi>=2017.4.17 in /usr/local/lib/python3.9/dist-packages (from requests>=2.26->yfinance) (2022.12.7)\n",
            "Requirement already satisfied: charset-normalizer~=2.0.0 in /usr/local/lib/python3.9/dist-packages (from requests>=2.26->yfinance) (2.0.12)\n",
            "Requirement already satisfied: pycparser in /usr/local/lib/python3.9/dist-packages (from cffi>=1.12->cryptography>=3.3.2->yfinance) (2.21)\n",
            "Installing collected packages: appdirs, frozendict, cryptography, yfinance\n",
            "Successfully installed appdirs-1.4.4 cryptography-39.0.2 frozendict-2.3.6 yfinance-0.2.13\n"
          ]
        }
      ]
    },
    {
      "cell_type": "code",
      "source": [
        "import yfinance as yf\n",
        "\n",
        "# Get the stock quote\n",
        "df = yf.download('PFE', start='2010-01-01', end='2023-02-20')\n",
        "print(df.head())"
      ],
      "metadata": {
        "id": "AvUTdspiwKvP",
        "outputId": "96f4a815-ab0f-43df-fe36-cc3eae144152",
        "colab": {
          "base_uri": "https://localhost:8080/"
        }
      },
      "execution_count": 16,
      "outputs": [
        {
          "output_type": "stream",
          "name": "stdout",
          "text": [
            "\r[*********************100%***********************]  1 of 1 completed\n",
            "                 Open       High        Low      Close  Adj Close    Volume\n",
            "Date                                                                       \n",
            "2010-01-04  17.333965  17.969639  17.305504  17.960152  11.026823  54898644\n",
            "2010-01-05  17.950665  17.960152  17.599621  17.703985  10.869543  45714931\n",
            "2010-01-06  17.703985  17.846300  17.561670  17.647058  10.834594  43640975\n",
            "2010-01-07  17.685009  17.713472  17.514231  17.580645  10.793819  41557112\n",
            "2010-01-08  17.666035  17.751423  17.571157  17.722960  10.881194  32049716\n"
          ]
        }
      ]
    },
    {
      "cell_type": "code",
      "metadata": {
        "colab": {
          "base_uri": "https://localhost:8080/",
          "height": 592
        },
        "id": "NyYbFTg9CHF_",
        "outputId": "76275457-41be-4ff1-8674-80984d7ef7a4"
      },
      "source": [
        "# Get the number of rows and columns in the data set\n",
        "print(df.shape)\n",
        "# Visualize the closing price history\n",
        "plt.figure(figsize=(16,8))\n",
        "plt.plot(df['Close'])\n",
        "plt.title('Close Price History', fontsize=18)\n",
        "plt.xlabel('Date', fontsize=18)\n",
        "plt.ylabel('Close Price (USD)', fontsize=18)\n",
        "plt.show"
      ],
      "execution_count": 17,
      "outputs": [
        {
          "output_type": "stream",
          "name": "stdout",
          "text": [
            "(3305, 6)\n"
          ]
        },
        {
          "output_type": "execute_result",
          "data": {
            "text/plain": [
              "<function matplotlib.pyplot.show(close=None, block=None)>"
            ]
          },
          "metadata": {},
          "execution_count": 17
        },
        {
          "output_type": "display_data",
          "data": {
            "text/plain": [
              "<Figure size 1152x576 with 1 Axes>"
            ],
            "image/png": "[encoded data removed]"
          },
          "metadata": {}
        }
      ]
    },
    {
      "cell_type": "code",
      "metadata": {
        "colab": {
          "base_uri": "https://localhost:8080/"
        },
        "id": "9N3hAR7uDu6l",
        "outputId": "bb6d54de-bb3a-4d42-af3e-c034035e5e42"
      },
      "source": [
        "# Create a new dataframe with only the Close column\n",
        "data = df.filter(['Close'])\n",
        "# Convert the dataframe to a numpy array\n",
        "dataset = data.values\n",
        "# Get the number of rows to train the model on\n",
        "training_data_len = math.ceil(len(dataset)*.8)\n",
        "print(training_data_len)"
      ],
      "execution_count": 18,
      "outputs": [
        {
          "output_type": "stream",
          "name": "stdout",
          "text": [
            "2644\n"
          ]
        }
      ]
    },
    {
      "cell_type": "code",
      "metadata": {
        "colab": {
          "base_uri": "https://localhost:8080/"
        },
        "id": "aeRb_wifEQMm",
        "outputId": "fb4ce918-2536-4a36-bd3d-98bb453e7a78"
      },
      "source": [
        "# Scale the data\n",
        "scaler = MinMaxScaler(feature_range=(0,1))\n",
        "scaled_data = scaler.fit_transform(dataset)\n",
        "print(len(scaled_data))\n",
        "print(scaled_data)"
      ],
      "execution_count": 19,
      "outputs": [
        {
          "output_type": "stream",
          "name": "stdout",
          "text": [
            "3305\n",
            "[[0.09500669]\n",
            " [0.08965142]\n",
            " [0.08846134]\n",
            " ...\n",
            " [0.62516546]\n",
            " [0.61743047]\n",
            " [0.62286585]]\n"
          ]
        }
      ]
    },
    {
      "cell_type": "code",
      "metadata": {
        "colab": {
          "base_uri": "https://localhost:8080/"
        },
        "id": "sRFZxdS_Esm2",
        "outputId": "2d951569-775b-474d-c51a-9dfc0939bedb"
      },
      "source": [
        "# Create the training dataset\n",
        "# Create the scaled training dataset\n",
        "train_data = scaled_data[0:training_data_len, :]\n",
        "# Split the data into x_train and y_train data sets\n",
        "x_train = []\n",
        "y_train = []\n",
        "\n",
        "sequence_len = 80\n",
        "\n",
        "for i in range(sequence_len, len(train_data)):\n",
        "  x_train.append(train_data[i-sequence_len:i, 0])\n",
        "  y_train.append(train_data[i, 0])\n",
        "  if i<=sequence_len+1:\n",
        "    print(x_train)\n",
        "    print(y_train)\n",
        "    print()"
      ],
      "execution_count": 20,
      "outputs": [
        {
          "output_type": "stream",
          "name": "stdout",
          "text": [
            "[array([0.09500669, 0.08965142, 0.08846134, 0.08707293, 0.09004809,\n",
            "       0.09302324, 0.0918332 , 0.1005603 , 0.10393216, 0.10611394,\n",
            "       0.11622949, 0.11503941, 0.10115534, 0.09560173, 0.09341995,\n",
            "       0.09203154, 0.0963951 , 0.08905638, 0.08965142, 0.09222987,\n",
            "       0.10115534, 0.08885805, 0.07715576, 0.07576735, 0.07338723,\n",
            "       0.0741806 , 0.07140378, 0.07398223, 0.07259386, 0.07100707,\n",
            "       0.07001537, 0.07120545, 0.07636238, 0.07556901, 0.07001537,\n",
            "       0.07279219, 0.07041207, 0.06763525, 0.07160211, 0.06862696,\n",
            "       0.06307335, 0.06327168, 0.06624684, 0.06366839, 0.06128823,\n",
            "       0.05970149, 0.06247831, 0.05831308, 0.06188327, 0.06188327,\n",
            "       0.06089157, 0.06128823, 0.05494126, 0.05970149, 0.06743688,\n",
            "       0.06882533, 0.06446172, 0.05950316, 0.06227998, 0.06188327,\n",
            "       0.05970149, 0.05831308, 0.05474292, 0.05593296, 0.05811474,\n",
            "       0.05950316, 0.06168494, 0.06247831, 0.06029653, 0.05811474,\n",
            "       0.056528  , 0.05275945, 0.05256112, 0.05196608, 0.04879259,\n",
            "       0.04641247, 0.05494126, 0.05315614, 0.04601577, 0.04740418])]\n",
            "[0.05394952985209989]\n",
            "\n",
            "[array([0.09500669, 0.08965142, 0.08846134, 0.08707293, 0.09004809,\n",
            "       0.09302324, 0.0918332 , 0.1005603 , 0.10393216, 0.10611394,\n",
            "       0.11622949, 0.11503941, 0.10115534, 0.09560173, 0.09341995,\n",
            "       0.09203154, 0.0963951 , 0.08905638, 0.08965142, 0.09222987,\n",
            "       0.10115534, 0.08885805, 0.07715576, 0.07576735, 0.07338723,\n",
            "       0.0741806 , 0.07140378, 0.07398223, 0.07259386, 0.07100707,\n",
            "       0.07001537, 0.07120545, 0.07636238, 0.07556901, 0.07001537,\n",
            "       0.07279219, 0.07041207, 0.06763525, 0.07160211, 0.06862696,\n",
            "       0.06307335, 0.06327168, 0.06624684, 0.06366839, 0.06128823,\n",
            "       0.05970149, 0.06247831, 0.05831308, 0.06188327, 0.06188327,\n",
            "       0.06089157, 0.06128823, 0.05494126, 0.05970149, 0.06743688,\n",
            "       0.06882533, 0.06446172, 0.05950316, 0.06227998, 0.06188327,\n",
            "       0.05970149, 0.05831308, 0.05474292, 0.05593296, 0.05811474,\n",
            "       0.05950316, 0.06168494, 0.06247831, 0.06029653, 0.05811474,\n",
            "       0.056528  , 0.05275945, 0.05256112, 0.05196608, 0.04879259,\n",
            "       0.04641247, 0.05494126, 0.05315614, 0.04601577, 0.04740418]), array([0.08965142, 0.08846134, 0.08707293, 0.09004809, 0.09302324,\n",
            "       0.0918332 , 0.1005603 , 0.10393216, 0.10611394, 0.11622949,\n",
            "       0.11503941, 0.10115534, 0.09560173, 0.09341995, 0.09203154,\n",
            "       0.0963951 , 0.08905638, 0.08965142, 0.09222987, 0.10115534,\n",
            "       0.08885805, 0.07715576, 0.07576735, 0.07338723, 0.0741806 ,\n",
            "       0.07140378, 0.07398223, 0.07259386, 0.07100707, 0.07001537,\n",
            "       0.07120545, 0.07636238, 0.07556901, 0.07001537, 0.07279219,\n",
            "       0.07041207, 0.06763525, 0.07160211, 0.06862696, 0.06307335,\n",
            "       0.06327168, 0.06624684, 0.06366839, 0.06128823, 0.05970149,\n",
            "       0.06247831, 0.05831308, 0.06188327, 0.06188327, 0.06089157,\n",
            "       0.06128823, 0.05494126, 0.05970149, 0.06743688, 0.06882533,\n",
            "       0.06446172, 0.05950316, 0.06227998, 0.06188327, 0.05970149,\n",
            "       0.05831308, 0.05474292, 0.05593296, 0.05811474, 0.05950316,\n",
            "       0.06168494, 0.06247831, 0.06029653, 0.05811474, 0.056528  ,\n",
            "       0.05275945, 0.05256112, 0.05196608, 0.04879259, 0.04641247,\n",
            "       0.05494126, 0.05315614, 0.04601577, 0.04740418, 0.05394953])]\n",
            "[0.05394952985209989, 0.05117270716646338]\n",
            "\n"
          ]
        }
      ]
    },
    {
      "cell_type": "code",
      "metadata": {
        "colab": {
          "base_uri": "https://localhost:8080/"
        },
        "id": "BZzoaIXvqkO_",
        "outputId": "08506a40-fd40-4766-b709-d8145f4004b2"
      },
      "source": [
        "type(x_train)"
      ],
      "execution_count": 21,
      "outputs": [
        {
          "output_type": "execute_result",
          "data": {
            "text/plain": [
              "list"
            ]
          },
          "metadata": {},
          "execution_count": 21
        }
      ]
    },
    {
      "cell_type": "code",
      "metadata": {
        "colab": {
          "base_uri": "https://localhost:8080/",
          "height": 69
        },
        "id": "_ZzzzxMJGXpU",
        "outputId": "e8d57aa8-9ed1-42cc-a13d-850f7393a652"
      },
      "source": [
        "# Convert the x_train and y_train to numpy arrays\n",
        "x_train, y_train = np.array(x_train), np.array(y_train)\n",
        "display(type(x_train))\n",
        "display(x_train.shape)\n",
        "\n",
        "# Reshape the data for the LSTM model\n",
        "x_train = np.reshape(x_train, (x_train.shape[0], x_train.shape[1], 1))\n",
        "display(x_train.shape[1])"
      ],
      "execution_count": 22,
      "outputs": [
        {
          "output_type": "display_data",
          "data": {
            "text/plain": [
              "numpy.ndarray"
            ]
          },
          "metadata": {}
        },
        {
          "output_type": "display_data",
          "data": {
            "text/plain": [
              "(2564, 80)"
            ]
          },
          "metadata": {}
        },
        {
          "output_type": "display_data",
          "data": {
            "text/plain": [
              "80"
            ]
          },
          "metadata": {}
        }
      ]
    },
    {
      "cell_type": "markdown",
      "metadata": {
        "id": "1_at-22FwBuI"
      },
      "source": [
        "**Long Short Term Memory (LSTM) Network**\n",
        "\n",
        "<!-- ![alt text](http://colah.github.io/images/post-covers/lstm.png) -->\n",
        "![alt text](https://www.researchgate.net/profile/Savvas-Varsamopoulos/publication/329362532/figure/fig5/AS:699592479870977@1543807253596/Structure-of-the-LSTM-cell-and-equations-that-describe-the-gates-of-an-LSTM-cell.jpg)\n",
        "\n",
        "\n",
        "**Gated Recurrent Unit (GRU)**\n",
        "\n",
        "![alt text](https://upload.wikimedia.org/wikipedia/commons/thumb/3/37/Gated_Recurrent_Unit%2C_base_type.svg/2880px-Gated_Recurrent_Unit%2C_base_type.svg.png)\n",
        "\n",
        "Initially, for $t=0$, the output vector is $h_{0}=0$.\n",
        "\n",
        "\\begin{aligned}z_{t}&=\\sigma _{g}(W_{z}x_{t}+U_{z}h_{t-1}+b_{z})\\\\r_{t}&=\\sigma _{g}(W_{r}x_{t}+U_{r}h_{t-1}+b_{r})\\\\{\\hat {h}}_{t}&=\\phi _{h}(W_{h}x_{t}+U_{h}(r_{t}\\odot h_{t-1})+b_{h})\\\\h_{t}&=(1-z_{t})\\odot h_{t-1}+z_{t}\\odot {\\hat {h}}_{t}\\end{aligned}\n",
        "\n",
        "where, the operator $\\odot$  denotes the Hadamard product.\n",
        "\n",
        "Variables\n",
        "- $x_{t}$: input vector\n",
        "- $h_{t}$: output vector\n",
        "- $\\hat{h}_{t}$: candidate activation vector\n",
        "- $z_{t}$: update gate vector\n",
        "- $r_{t}$: reset gate vector\n",
        "- $W$, $U$ and $b$: parameter matrices and vector\n",
        "\n",
        "\n",
        "Activation functions\n",
        "- $\\sigma _{g}$: The original is a sigmoid function.\n",
        "- $\\phi _{h}$: The original is a hyperbolic tangent.\n",
        "\n"
      ]
    },
    {
      "cell_type": "code",
      "metadata": {
        "id": "HN4AP5bvG44d"
      },
      "source": [
        "# Build the LSTM and GRU model\n",
        "model = Sequential()\n",
        "model.add(LSTM(80, return_sequences=True, input_shape=(x_train.shape[1], 1)))\n",
        "model.add(GRU(80, return_sequences=False))\n",
        "model.add(Dense(25))\n",
        "model.add(Dense(1))"
      ],
      "execution_count": 23,
      "outputs": []
    },
    {
      "cell_type": "code",
      "metadata": {
        "colab": {
          "base_uri": "https://localhost:8080/"
        },
        "id": "Rgk2a5-soosg",
        "outputId": "5f646e43-41b3-4585-8fb6-9f5eae32b66e"
      },
      "source": [
        "model.summary()"
      ],
      "execution_count": 24,
      "outputs": [
        {
          "output_type": "stream",
          "name": "stdout",
          "text": [
            "Model: \"sequential\"\n",
            "_________________________________________________________________\n",
            " Layer (type)                Output Shape              Param #   \n",
            "=================================================================\n",
            " lstm (LSTM)                 (None, 80, 80)            26240     \n",
            "                                                                 \n",
            " gru (GRU)                   (None, 80)                38880     \n",
            "                                                                 \n",
            " dense (Dense)               (None, 25)                2025      \n",
            "                                                                 \n",
            " dense_1 (Dense)             (None, 1)                 26        \n",
            "                                                                 \n",
            "=================================================================\n",
            "Total params: 67,171\n",
            "Trainable params: 67,171\n",
            "Non-trainable params: 0\n",
            "_________________________________________________________________\n"
          ]
        }
      ]
    },
    {
      "cell_type": "code",
      "metadata": {
        "id": "KZE4nhFAGXet"
      },
      "source": [
        "# Compile the model\n",
        "model.compile(optimizer='adam', loss='mean_squared_error')"
      ],
      "execution_count": 25,
      "outputs": []
    },
    {
      "cell_type": "code",
      "metadata": {
        "colab": {
          "base_uri": "https://localhost:8080/"
        },
        "id": "dVidnybaHqec",
        "outputId": "26d57f60-4074-41fc-9461-54c3740dc693"
      },
      "source": [
        "# Train the model\n",
        "model.fit(x_train, y_train, batch_size=1, epochs=10)"
      ],
      "execution_count": 26,
      "outputs": [
        {
          "output_type": "stream",
          "name": "stdout",
          "text": [
            "Epoch 1/10\n",
            "2564/2564 [==============================] - 126s 47ms/step - loss: 5.6962e-04\n",
            "Epoch 2/10\n",
            "2564/2564 [==============================] - 124s 48ms/step - loss: 2.0489e-04\n",
            "Epoch 3/10\n",
            "2564/2564 [==============================] - 126s 49ms/step - loss: 1.9518e-04\n",
            "Epoch 4/10\n",
            "2564/2564 [==============================] - 129s 50ms/step - loss: 1.7900e-04\n",
            "Epoch 5/10\n",
            "2564/2564 [==============================] - 127s 50ms/step - loss: 1.5119e-04\n",
            "Epoch 6/10\n",
            "2564/2564 [==============================] - 129s 50ms/step - loss: 1.6427e-04\n",
            "Epoch 7/10\n",
            "2564/2564 [==============================] - 127s 50ms/step - loss: 1.3369e-04\n",
            "Epoch 8/10\n",
            "2564/2564 [==============================] - 126s 49ms/step - loss: 1.4451e-04\n",
            "Epoch 9/10\n",
            "2564/2564 [==============================] - 129s 50ms/step - loss: 1.3103e-04\n",
            "Epoch 10/10\n",
            "2564/2564 [==============================] - 129s 50ms/step - loss: 1.2522e-04\n"
          ]
        },
        {
          "output_type": "execute_result",
          "data": {
            "text/plain": [
              "<keras.callbacks.History at 0x7f0b11223c40>"
            ]
          },
          "metadata": {},
          "execution_count": 26
        }
      ]
    },
    {
      "cell_type": "code",
      "metadata": {
        "id": "D0E0BiPwIO08"
      },
      "source": [
        "# Create the testing data set\n",
        "# Create a new array containing scaled values indexed from (training_data_len - sequence_len) to the end.\n",
        "test_data = scaled_data[training_data_len - sequence_len:, :]\n",
        "# Create the data sets x_test and y_test\n",
        "x_test = []\n",
        "y_test = dataset[training_data_len:, :]\n",
        "\n",
        "for i in range(sequence_len, len(test_data)):\n",
        "  x_test.append(test_data[i-sequence_len:i, 0])"
      ],
      "execution_count": 27,
      "outputs": []
    },
    {
      "cell_type": "code",
      "metadata": {
        "id": "H7vXSPyYJFZc"
      },
      "source": [
        "# Convert the data to a numpy array\n",
        "x_test = np.array(x_test)"
      ],
      "execution_count": 28,
      "outputs": []
    },
    {
      "cell_type": "code",
      "metadata": {
        "id": "Mq51nuh9JOdT"
      },
      "source": [
        "# Reshape the data\n",
        "x_test = np.reshape(x_test, (x_test.shape[0], x_test.shape[1], 1))"
      ],
      "execution_count": 29,
      "outputs": []
    },
    {
      "cell_type": "code",
      "metadata": {
        "id": "aBXKvbfaJlcE",
        "outputId": "babfdc83-2c99-4797-f5f2-fdb04870d585",
        "colab": {
          "base_uri": "https://localhost:8080/"
        }
      },
      "source": [
        "# Get the model's predicted price values\n",
        "predictions = model.predict(x_test)\n",
        "predictions = scaler.inverse_transform(predictions)"
      ],
      "execution_count": 30,
      "outputs": [
        {
          "output_type": "stream",
          "name": "stdout",
          "text": [
            "21/21 [==============================] - 2s 46ms/step\n"
          ]
        }
      ]
    },
    {
      "cell_type": "code",
      "metadata": {
        "colab": {
          "base_uri": "https://localhost:8080/"
        },
        "id": "2vcq3h9uKBYj",
        "outputId": "1575c743-c6b8-40d3-c753-c1616c985392"
      },
      "source": [
        "# Get the root mean squared error (RMSE)\n",
        "rmse = np.sqrt(np.mean(predictions - y_test)**2)\n",
        "print(rmse)"
      ],
      "execution_count": 31,
      "outputs": [
        {
          "output_type": "stream",
          "name": "stdout",
          "text": [
            "0.7760983234815265\n"
          ]
        }
      ]
    },
    {
      "cell_type": "code",
      "metadata": {
        "colab": {
          "base_uri": "https://localhost:8080/",
          "height": 662
        },
        "id": "it1VzbpaKl8G",
        "outputId": "a69c7766-8655-4305-b535-aed3b7e9d54f"
      },
      "source": [
        "# Plot the data\n",
        "train = data[:training_data_len]\n",
        "valid = data[training_data_len:]\n",
        "valid['Predictions'] = predictions\n",
        "\n",
        "# Visulize the data\n",
        "plt.figure(figsize=(16,8))\n",
        "plt.title('Model')\n",
        "plt.xlabel('Date', fontsize=18)\n",
        "plt.ylabel('Close Price (USD', fontsize=18)\n",
        "plt.plot(train['Close'])\n",
        "plt.plot(valid[['Close', 'Predictions']])\n",
        "plt.legend(['Training', 'Validation', 'Prediction'], loc='lower right')\n",
        "plt.show()"
      ],
      "execution_count": 32,
      "outputs": [
        {
          "output_type": "stream",
          "name": "stderr",
          "text": [
            "<ipython-input-32-06787f47ce3d>:4: SettingWithCopyWarning: \n",
            "A value is trying to be set on a copy of a slice from a DataFrame.\n",
            "Try using .loc[row_indexer,col_indexer] = value instead\n",
            "\n",
            "See the caveats in the documentation: https://pandas.pydata.org/pandas-docs/stable/user_guide/indexing.html#returning-a-view-versus-a-copy\n",
            "  valid['Predictions'] = predictions\n"
          ]
        },
        {
          "output_type": "display_data",
          "data": {
            "text/plain": [
              "<Figure size 1152x576 with 1 Axes>"
            ],
            "image/png": "[encoded data removed]"
          },
          "metadata": {}
        }
      ]
    },
    {
      "cell_type": "code",
      "metadata": {
        "colab": {
          "base_uri": "https://localhost:8080/"
        },
        "id": "l_ijt9peMAt3",
        "outputId": "4468548e-e249-418c-8f38-bfaa6ae7709d"
      },
      "source": [
        "# Show the valid and predicted prices\n",
        "print(valid)"
      ],
      "execution_count": 33,
      "outputs": [
        {
          "output_type": "stream",
          "name": "stdout",
          "text": [
            "                Close  Predictions\n",
            "Date                              \n",
            "2020-07-07  32.286530    32.464542\n",
            "2020-07-08  32.020874    31.966238\n",
            "2020-07-09  31.745731    31.670986\n",
            "2020-07-10  32.096775    31.458046\n",
            "2020-07-13  33.406071    31.810297\n",
            "...               ...          ...\n",
            "2023-02-13  43.990002    43.213566\n",
            "2023-02-14  43.720001    43.407200\n",
            "2023-02-15  43.320000    43.122200\n",
            "2023-02-16  42.950001    42.689106\n",
            "2023-02-17  43.209999    42.335762\n",
            "\n",
            "[661 rows x 2 columns]\n"
          ]
        }
      ]
    },
    {
      "cell_type": "code",
      "metadata": {
        "colab": {
          "base_uri": "https://localhost:8080/"
        },
        "id": "6BZkfWlIMRg-",
        "outputId": "84f4e571-4bea-4295-8edd-74fa2a2572db"
      },
      "source": [
        "# Get the quote\n",
        "# test_quote = web.DataReader('PFE', data_source='yahoo', start='2010-01-01', end='2021-10-20')\n",
        "test_quote = yf.download('PFE', start='2010-01-01', end='2023-02-20')\n",
        "\n",
        "# Create a new dataframe\n",
        "new_df = test_quote.filter(['Close'])\n",
        "# Get the last 80 day closing price values and convert the dataframe to an array\n",
        "\n",
        "\n",
        "last_80_days = new_df[-80:].values\n",
        "# Scale the data to be values between 0 and 1\n",
        "last_80_days_scaled = scaler.transform(last_80_days)\n",
        "# Create an empty list\n",
        "X_test = []\n",
        "# Append the past 80 days\n",
        "X_test.append(last_80_days_scaled)\n",
        "# Convert the X_test data set to a numpy array\n",
        "X_test = np.array(X_test)\n",
        "# Reshape the data\n",
        "X_test = np.reshape(X_test, (X_test.shape[0], X_test.shape[1], 1))\n",
        "# Get the predicted scaled price\n",
        "pred_price = model.predict(X_test)\n",
        "# Inverse scaling\n",
        "pred_price = scaler.inverse_transform(pred_price)\n",
        "print(pred_price)"
      ],
      "execution_count": 35,
      "outputs": [
        {
          "output_type": "stream",
          "name": "stdout",
          "text": [
            "[*********************100%***********************]  1 of 1 completed\n",
            "1/1 [==============================] - 0s 63ms/step\n",
            "[[42.60625]]\n"
          ]
        }
      ]
    },
    {
      "cell_type": "code",
      "metadata": {
        "colab": {
          "base_uri": "https://localhost:8080/"
        },
        "id": "KoX-hC7AN4ny",
        "outputId": "3c079255-c40a-4fd1-98f6-4a98d56d2d33"
      },
      "source": [
        "# test_quote2 = web.DataReader('PFE', data_source='yahoo', start='2021-09-30', end='2021-10-21')\n",
        "test_quote2 = yf.download('PFE', start='2010-01-01', end='2023-02-20')\n",
        "\n",
        "print(test_quote2['Close'])"
      ],
      "execution_count": 37,
      "outputs": [
        {
          "output_type": "stream",
          "name": "stdout",
          "text": [
            "\r[*********************100%***********************]  1 of 1 completed\n",
            "Date\n",
            "2010-01-04    17.960152\n",
            "2010-01-05    17.703985\n",
            "2010-01-06    17.647058\n",
            "2010-01-07    17.580645\n",
            "2010-01-08    17.722960\n",
            "                ...    \n",
            "2023-02-13    43.990002\n",
            "2023-02-14    43.720001\n",
            "2023-02-15    43.320000\n",
            "2023-02-16    42.950001\n",
            "2023-02-17    43.209999\n",
            "Name: Close, Length: 3305, dtype: float64\n"
          ]
        }
      ]
    }
  ]
}